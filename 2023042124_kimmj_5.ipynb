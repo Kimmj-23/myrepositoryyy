{
  "nbformat": 4,
  "nbformat_minor": 0,
  "metadata": {
    "colab": {
      "provenance": []
    },
    "kernelspec": {
      "name": "python3",
      "display_name": "Python 3"
    },
    "language_info": {
      "name": "python"
    }
  },
  "cells": [
    {
      "cell_type": "markdown",
      "source": [
        "기상청의 기온 분석 csv 파일에서 평균기온 데이터를 이용하여 온도를 예측한다.\n",
        "\n",
        "---\n",
        "지점: 서울 <br>\n",
        "자료구분: 일 <br>\n",
        "기간: 2021-06-01 부터 2024-05-31"
      ],
      "metadata": {
        "id": "WMiQLm3T52Ql"
      }
    },
    {
      "cell_type": "code",
      "source": [
        "from google.colab import drive\n",
        "drive.mount('/content/drive')"
      ],
      "metadata": {
        "colab": {
          "base_uri": "https://localhost:8080/"
        },
        "id": "un5ocRWE0sSf",
        "outputId": "a6b8cd11-7053-4e80-bb24-ce62179e39d4"
      },
      "execution_count": null,
      "outputs": [
        {
          "output_type": "stream",
          "name": "stdout",
          "text": [
            "Mounted at /content/drive\n"
          ]
        }
      ]
    },
    {
      "cell_type": "code",
      "execution_count": null,
      "metadata": {
        "id": "CMJTm9G90Vk_"
      },
      "outputs": [],
      "source": [
        "import pandas as pd\n",
        "import tensorflow as tf\n",
        "import numpy as np"
      ]
    },
    {
      "cell_type": "code",
      "source": [
        "# 데이터 불러오기\n",
        "data = pd.read_csv(\"/content/drive/MyDrive/전산물리_데이터/ta_20240613055533.csv\", encoding=\"cp949\")"
      ],
      "metadata": {
        "id": "wXxKDdh-0tZe"
      },
      "execution_count": null,
      "outputs": []
    },
    {
      "cell_type": "code",
      "source": [
        "# 빈 데이터 확인하기, 삭제\n",
        "print(data.isnull().sum())\n",
        "data = data.dropna()"
      ],
      "metadata": {
        "colab": {
          "base_uri": "https://localhost:8080/"
        },
        "id": "B2gKirEd1ZdO",
        "outputId": "c77a9076-d17c-46fa-a4f3-b6807e0cc3e5"
      },
      "execution_count": null,
      "outputs": [
        {
          "output_type": "stream",
          "name": "stdout",
          "text": [
            "날짜         0\n",
            "평균기온(℃)    1\n",
            "최저기온(℃)    2\n",
            "최고기온(℃)    1\n",
            "dtype: int64\n"
          ]
        }
      ]
    },
    {
      "cell_type": "code",
      "source": [
        "# 빈 데이터 확인 -> 0\n",
        "print(data.isnull().sum())"
      ],
      "metadata": {
        "colab": {
          "base_uri": "https://localhost:8080/"
        },
        "id": "IhtxYKVl1jHa",
        "outputId": "d726daf6-7565-4e98-faec-012736c3199c"
      },
      "execution_count": null,
      "outputs": [
        {
          "output_type": "stream",
          "name": "stdout",
          "text": [
            "날짜         0\n",
            "평균기온(℃)    0\n",
            "최저기온(℃)    0\n",
            "최고기온(℃)    0\n",
            "dtype: int64\n"
          ]
        }
      ]
    },
    {
      "cell_type": "code",
      "source": [
        "# 열 이름 파악\n",
        "print(data.columns)"
      ],
      "metadata": {
        "colab": {
          "base_uri": "https://localhost:8080/"
        },
        "id": "GjwgZkC11lrd",
        "outputId": "63f417f4-4dba-4b33-e6c5-987406806c7a"
      },
      "execution_count": null,
      "outputs": [
        {
          "output_type": "stream",
          "name": "stdout",
          "text": [
            "Index(['날짜', '평균기온(℃)', '최저기온(℃)', '최고기온(℃)'], dtype='object')\n"
          ]
        }
      ]
    },
    {
      "cell_type": "code",
      "source": [
        "# 남길 열: '평균기온'\n",
        "data = data.drop('날짜', axis=1)\n",
        "data = data.drop('최저기온(℃)', axis=1)\n",
        "data = data.drop('최고기온(℃)', axis=1)"
      ],
      "metadata": {
        "id": "E6iN2N7I1uM7"
      },
      "execution_count": null,
      "outputs": []
    },
    {
      "cell_type": "code",
      "source": [
        "print(data)"
      ],
      "metadata": {
        "colab": {
          "base_uri": "https://localhost:8080/"
        },
        "id": "A5EPp0wD1wLW",
        "outputId": "9ef52ac7-ffca-4fac-d054-5cf73301ba7d"
      },
      "execution_count": null,
      "outputs": [
        {
          "output_type": "stream",
          "name": "stdout",
          "text": [
            "      평균기온(℃)\n",
            "0        20.2\n",
            "1        23.2\n",
            "2        19.1\n",
            "3        18.5\n",
            "4        20.8\n",
            "...       ...\n",
            "1091     18.5\n",
            "1092     20.4\n",
            "1093     21.2\n",
            "1094     20.7\n",
            "1095     20.4\n",
            "\n",
            "[1095 rows x 1 columns]\n"
          ]
        }
      ]
    },
    {
      "cell_type": "code",
      "source": [
        "# 데이터 전처리(데이터 정규화)\n",
        "data_max = data[['평균기온(℃)']].max()\n",
        "data_min = data[['평균기온(℃)']].min()\n",
        "scaled_data = (data[['평균기온(℃)']] - data_min) / (data_max - data_min)\n",
        "scaled_data = scaled_data.values"
      ],
      "metadata": {
        "id": "wyk0FwS41062"
      },
      "execution_count": null,
      "outputs": []
    },
    {
      "cell_type": "code",
      "source": [
        "# 학습 데이터와 테스트 데이터로 분리\n",
        "train_size = int(len(scaled_data) * 0.8)\n",
        "train_data = scaled_data[:train_size]\n",
        "test_data = scaled_data[train_size:]"
      ],
      "metadata": {
        "id": "pCdajmDK3GS-"
      },
      "execution_count": null,
      "outputs": []
    },
    {
      "cell_type": "code",
      "source": [
        "# 시퀀스 데이터셋 생성 함수\n",
        "def make_sequence_dataset(data, window_size):\n",
        "    sequence_data = []\n",
        "    sequence_label = []\n",
        "    for i in range(len(data) - window_size -1):\n",
        "        sequence_data.append(data[i:i+window_size])\n",
        "        sequence_label.append(data[i+window_size])\n",
        "    return np.array(sequence_data), np.array(sequence_label)"
      ],
      "metadata": {
        "id": "xhc7bAlm3ISI"
      },
      "execution_count": null,
      "outputs": []
    },
    {
      "cell_type": "code",
      "source": [
        "# 시퀀스 길이 정의\n",
        "window_size = 730\n",
        "\n",
        "# 학습 데이터를 시퀀스 데이터셋으로 변환\n",
        "train_data, train_label = make_sequence_dataset(train_data, window_size)"
      ],
      "metadata": {
        "id": "Xo0PQygL3MwE"
      },
      "execution_count": null,
      "outputs": []
    },
    {
      "cell_type": "code",
      "source": [
        "# LSTM 모델 생성\n",
        "model = tf.keras.models.Sequential([\n",
        "    tf.keras.layers.LSTM(32, input_shape=(train_data.shape[1], train_data.shape[2])),\n",
        "    tf.keras.layers.Dropout(0.2),\n",
        "    tf.keras.layers.Dense(1)\n",
        "])\n",
        "\n",
        "# 모델 컴파일\n",
        "model.compile(optimizer=\"adam\",\n",
        "              loss=tf.keras.losses.MeanSquaredError())"
      ],
      "metadata": {
        "id": "HjRi4ib03SvE"
      },
      "execution_count": null,
      "outputs": []
    },
    {
      "cell_type": "code",
      "source": [
        "model.summary()"
      ],
      "metadata": {
        "colab": {
          "base_uri": "https://localhost:8080/"
        },
        "id": "OE-Fm9nJ3Y6B",
        "outputId": "e396b84b-4ea9-419f-dfd1-65697713f271"
      },
      "execution_count": null,
      "outputs": [
        {
          "output_type": "stream",
          "name": "stdout",
          "text": [
            "Model: \"sequential_3\"\n",
            "_________________________________________________________________\n",
            " Layer (type)                Output Shape              Param #   \n",
            "=================================================================\n",
            " lstm_3 (LSTM)               (None, 32)                4352      \n",
            "                                                                 \n",
            " dropout_3 (Dropout)         (None, 32)                0         \n",
            "                                                                 \n",
            " dense_3 (Dense)             (None, 1)                 33        \n",
            "                                                                 \n",
            "=================================================================\n",
            "Total params: 4385 (17.13 KB)\n",
            "Trainable params: 4385 (17.13 KB)\n",
            "Non-trainable params: 0 (0.00 Byte)\n",
            "_________________________________________________________________\n"
          ]
        }
      ]
    },
    {
      "cell_type": "code",
      "source": [
        "# 모델 학습\n",
        "model.fit(train_data, train_label, epochs=5, batch_size=1)"
      ],
      "metadata": {
        "colab": {
          "base_uri": "https://localhost:8080/"
        },
        "id": "J63VMOKp3ds3",
        "outputId": "fb3bc0f6-d545-4ca9-9c86-f706b38b22c7"
      },
      "execution_count": null,
      "outputs": [
        {
          "output_type": "stream",
          "name": "stdout",
          "text": [
            "Epoch 1/5\n",
            "145/145 [==============================] - 25s 158ms/step - loss: 0.0534\n",
            "Epoch 2/5\n",
            "145/145 [==============================] - 21s 143ms/step - loss: 0.0112\n",
            "Epoch 3/5\n",
            "145/145 [==============================] - 20s 141ms/step - loss: 0.0113\n",
            "Epoch 4/5\n",
            "145/145 [==============================] - 23s 157ms/step - loss: 0.0112\n",
            "Epoch 5/5\n",
            "145/145 [==============================] - 21s 142ms/step - loss: 0.0098\n"
          ]
        },
        {
          "output_type": "execute_result",
          "data": {
            "text/plain": [
              "<keras.src.callbacks.History at 0x78b441030610>"
            ]
          },
          "metadata": {},
          "execution_count": 80
        }
      ]
    },
    {
      "cell_type": "code",
      "source": [
        "# 10일 뒤의 온도 예측하기\n",
        "predictions = []\n",
        "for i in range(10):\n",
        "    last_window = scaled_data[-window_size:]\n",
        "    prediction = model.predict(last_window[np.newaxis, ...])[0]\n",
        "    predictions.append(prediction)\n",
        "    scaled_data = np.concatenate([scaled_data[-window_size+1:], prediction[np.newaxis, ...]], axis=0)\n",
        "predictions = pd.DataFrame(predictions, columns=['평균기온(℃)'])\n",
        "\n",
        "# 데이터 역정규화\n",
        "predictions = predictions * (data_max - data_min) + data_min\n",
        "print(predictions)"
      ],
      "metadata": {
        "id": "F1RfTSoRAV8B",
        "colab": {
          "base_uri": "https://localhost:8080/"
        },
        "outputId": "973df0e9-8418-4d66-c445-9344c512c2f0"
      },
      "execution_count": null,
      "outputs": [
        {
          "output_type": "stream",
          "name": "stdout",
          "text": [
            "1/1 [==============================] - 0s 432ms/step\n",
            "1/1 [==============================] - 0s 47ms/step\n",
            "1/1 [==============================] - 0s 43ms/step\n",
            "1/1 [==============================] - 0s 44ms/step\n",
            "1/1 [==============================] - 0s 51ms/step\n",
            "1/1 [==============================] - 0s 56ms/step\n",
            "1/1 [==============================] - 0s 44ms/step\n",
            "1/1 [==============================] - 0s 43ms/step\n",
            "1/1 [==============================] - 0s 47ms/step\n",
            "1/1 [==============================] - 0s 43ms/step\n",
            "     평균기온(℃)\n",
            "0  22.311451\n",
            "1  22.512520\n",
            "2  22.742949\n",
            "3  22.994801\n",
            "4  23.257328\n",
            "5  23.523362\n",
            "6  23.788027\n",
            "7  24.047982\n",
            "8  24.300973\n",
            "9  24.545490\n"
          ]
        }
      ]
    }
  ]
}